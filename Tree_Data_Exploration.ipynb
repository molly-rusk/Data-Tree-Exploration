{
 "cells": [
  {
   "cell_type": "code",
   "execution_count": 6,
   "id": "a26e1b29",
   "metadata": {},
   "outputs": [],
   "source": [
    "import pandas as pd\n",
    "import numpy as np\n",
    "import matplotlib.pyplot as plt"
   ]
  },
  {
   "cell_type": "code",
   "execution_count": 105,
   "id": "02827b1a",
   "metadata": {},
   "outputs": [
    {
     "data": {
      "text/html": [
       "<div>\n",
       "<style scoped>\n",
       "    .dataframe tbody tr th:only-of-type {\n",
       "        vertical-align: middle;\n",
       "    }\n",
       "\n",
       "    .dataframe tbody tr th {\n",
       "        vertical-align: top;\n",
       "    }\n",
       "\n",
       "    .dataframe thead th {\n",
       "        text-align: right;\n",
       "    }\n",
       "</style>\n",
       "<table border=\"1\" class=\"dataframe\">\n",
       "  <thead>\n",
       "    <tr style=\"text-align: right;\">\n",
       "      <th></th>\n",
       "      <th>TreeID</th>\n",
       "      <th>qLegalStatus</th>\n",
       "      <th>qSpecies</th>\n",
       "      <th>qAddress</th>\n",
       "      <th>SiteOrder</th>\n",
       "      <th>qSiteInfo</th>\n",
       "      <th>PlantType</th>\n",
       "      <th>qCaretaker</th>\n",
       "      <th>qCareAssistant</th>\n",
       "      <th>PlantDate</th>\n",
       "      <th>...</th>\n",
       "      <th>XCoord</th>\n",
       "      <th>YCoord</th>\n",
       "      <th>Latitude</th>\n",
       "      <th>Longitude</th>\n",
       "      <th>Location</th>\n",
       "      <th>Fire Prevention Districts</th>\n",
       "      <th>Police Districts</th>\n",
       "      <th>Supervisor Districts</th>\n",
       "      <th>Zip Codes</th>\n",
       "      <th>Neighborhoods (old)</th>\n",
       "    </tr>\n",
       "  </thead>\n",
       "  <tbody>\n",
       "    <tr>\n",
       "      <th>0</th>\n",
       "      <td>121399</td>\n",
       "      <td>DPW Maintained</td>\n",
       "      <td>Corymbia ficifolia :: Red Flowering Gum</td>\n",
       "      <td>349X Cargo Way</td>\n",
       "      <td>1.0</td>\n",
       "      <td>Sidewalk: Curb side : Cutout</td>\n",
       "      <td>Tree</td>\n",
       "      <td>DPW</td>\n",
       "      <td>NaN</td>\n",
       "      <td>NaN</td>\n",
       "      <td>...</td>\n",
       "      <td>NaN</td>\n",
       "      <td>NaN</td>\n",
       "      <td>NaN</td>\n",
       "      <td>NaN</td>\n",
       "      <td>NaN</td>\n",
       "      <td>NaN</td>\n",
       "      <td>NaN</td>\n",
       "      <td>NaN</td>\n",
       "      <td>NaN</td>\n",
       "      <td>NaN</td>\n",
       "    </tr>\n",
       "    <tr>\n",
       "      <th>1</th>\n",
       "      <td>46536</td>\n",
       "      <td>Permitted Site</td>\n",
       "      <td>Tree(s) ::</td>\n",
       "      <td>73 Summer St</td>\n",
       "      <td>2.0</td>\n",
       "      <td>Sidewalk: Curb side : Cutout</td>\n",
       "      <td>Tree</td>\n",
       "      <td>Private</td>\n",
       "      <td>NaN</td>\n",
       "      <td>04/01/2002 12:00:00 AM</td>\n",
       "      <td>...</td>\n",
       "      <td>NaN</td>\n",
       "      <td>NaN</td>\n",
       "      <td>NaN</td>\n",
       "      <td>NaN</td>\n",
       "      <td>NaN</td>\n",
       "      <td>NaN</td>\n",
       "      <td>NaN</td>\n",
       "      <td>NaN</td>\n",
       "      <td>NaN</td>\n",
       "      <td>NaN</td>\n",
       "    </tr>\n",
       "    <tr>\n",
       "      <th>2</th>\n",
       "      <td>251210</td>\n",
       "      <td>DPW Maintained</td>\n",
       "      <td>Eucalyptus polyanthemos :: Silver Dollar Eucal...</td>\n",
       "      <td>1170 Ingalls St</td>\n",
       "      <td>2.0</td>\n",
       "      <td>Sidewalk: Curb side : Cutout</td>\n",
       "      <td>Tree</td>\n",
       "      <td>DPW</td>\n",
       "      <td>NaN</td>\n",
       "      <td>11/02/1992 12:00:00 AM</td>\n",
       "      <td>...</td>\n",
       "      <td>NaN</td>\n",
       "      <td>NaN</td>\n",
       "      <td>NaN</td>\n",
       "      <td>NaN</td>\n",
       "      <td>NaN</td>\n",
       "      <td>NaN</td>\n",
       "      <td>NaN</td>\n",
       "      <td>NaN</td>\n",
       "      <td>NaN</td>\n",
       "      <td>NaN</td>\n",
       "    </tr>\n",
       "    <tr>\n",
       "      <th>3</th>\n",
       "      <td>254457</td>\n",
       "      <td>Significant Tree</td>\n",
       "      <td>Dodonaea viscosa :: Hop Bush</td>\n",
       "      <td>1055X Duncan St</td>\n",
       "      <td>2.0</td>\n",
       "      <td>Side Yard : Yard</td>\n",
       "      <td>Tree</td>\n",
       "      <td>Private</td>\n",
       "      <td>NaN</td>\n",
       "      <td>NaN</td>\n",
       "      <td>...</td>\n",
       "      <td>NaN</td>\n",
       "      <td>NaN</td>\n",
       "      <td>NaN</td>\n",
       "      <td>NaN</td>\n",
       "      <td>NaN</td>\n",
       "      <td>NaN</td>\n",
       "      <td>NaN</td>\n",
       "      <td>NaN</td>\n",
       "      <td>NaN</td>\n",
       "      <td>NaN</td>\n",
       "    </tr>\n",
       "    <tr>\n",
       "      <th>4</th>\n",
       "      <td>255073</td>\n",
       "      <td>Private</td>\n",
       "      <td>Tree(s) ::</td>\n",
       "      <td>173R Glenview Dr</td>\n",
       "      <td>NaN</td>\n",
       "      <td>Back Yard : Yard</td>\n",
       "      <td>Tree</td>\n",
       "      <td>Private</td>\n",
       "      <td>NaN</td>\n",
       "      <td>NaN</td>\n",
       "      <td>...</td>\n",
       "      <td>NaN</td>\n",
       "      <td>NaN</td>\n",
       "      <td>NaN</td>\n",
       "      <td>NaN</td>\n",
       "      <td>NaN</td>\n",
       "      <td>NaN</td>\n",
       "      <td>NaN</td>\n",
       "      <td>NaN</td>\n",
       "      <td>NaN</td>\n",
       "      <td>NaN</td>\n",
       "    </tr>\n",
       "    <tr>\n",
       "      <th>...</th>\n",
       "      <td>...</td>\n",
       "      <td>...</td>\n",
       "      <td>...</td>\n",
       "      <td>...</td>\n",
       "      <td>...</td>\n",
       "      <td>...</td>\n",
       "      <td>...</td>\n",
       "      <td>...</td>\n",
       "      <td>...</td>\n",
       "      <td>...</td>\n",
       "      <td>...</td>\n",
       "      <td>...</td>\n",
       "      <td>...</td>\n",
       "      <td>...</td>\n",
       "      <td>...</td>\n",
       "      <td>...</td>\n",
       "      <td>...</td>\n",
       "      <td>...</td>\n",
       "      <td>...</td>\n",
       "      <td>...</td>\n",
       "      <td>...</td>\n",
       "    </tr>\n",
       "    <tr>\n",
       "      <th>195854</th>\n",
       "      <td>231</td>\n",
       "      <td>DPW Maintained</td>\n",
       "      <td>Platanus x hispanica :: Sycamore: London Plane</td>\n",
       "      <td>2975 19th Ave</td>\n",
       "      <td>2.0</td>\n",
       "      <td>Sidewalk: Curb side : Cutout</td>\n",
       "      <td>Tree</td>\n",
       "      <td>DPW</td>\n",
       "      <td>NaN</td>\n",
       "      <td>03/09/2000 12:00:00 AM</td>\n",
       "      <td>...</td>\n",
       "      <td>5.990529e+06</td>\n",
       "      <td>2.095426e+06</td>\n",
       "      <td>37.733095</td>\n",
       "      <td>-122.475141</td>\n",
       "      <td>(37.7330954514847, -122.4751412005191)</td>\n",
       "      <td>1.0</td>\n",
       "      <td>8.0</td>\n",
       "      <td>4.0</td>\n",
       "      <td>64.0</td>\n",
       "      <td>35.0</td>\n",
       "    </tr>\n",
       "    <tr>\n",
       "      <th>195855</th>\n",
       "      <td>92652</td>\n",
       "      <td>Permitted Site</td>\n",
       "      <td>Azara microphylla :: Little-Leaf Azara</td>\n",
       "      <td>2201 Baker St</td>\n",
       "      <td>18.0</td>\n",
       "      <td>Sidewalk: Property side : Cutout</td>\n",
       "      <td>Tree</td>\n",
       "      <td>Private</td>\n",
       "      <td>NaN</td>\n",
       "      <td>08/25/2009 12:00:00 AM</td>\n",
       "      <td>...</td>\n",
       "      <td>5.999814e+06</td>\n",
       "      <td>2.116396e+06</td>\n",
       "      <td>37.791208</td>\n",
       "      <td>-122.444547</td>\n",
       "      <td>(37.791207910729526, -122.44454696545509)</td>\n",
       "      <td>13.0</td>\n",
       "      <td>6.0</td>\n",
       "      <td>1.0</td>\n",
       "      <td>29490.0</td>\n",
       "      <td>27.0</td>\n",
       "    </tr>\n",
       "    <tr>\n",
       "      <th>195856</th>\n",
       "      <td>108942</td>\n",
       "      <td>Permitted Site</td>\n",
       "      <td>Arbutus 'Marina' :: Hybrid Strawberry Tree</td>\n",
       "      <td>115B Prospect Ave</td>\n",
       "      <td>1.0</td>\n",
       "      <td>Sidewalk: Curb side : Cutout</td>\n",
       "      <td>Tree</td>\n",
       "      <td>Private</td>\n",
       "      <td>FUF</td>\n",
       "      <td>01/13/2015 12:00:00 AM</td>\n",
       "      <td>...</td>\n",
       "      <td>6.006936e+06</td>\n",
       "      <td>2.098797e+06</td>\n",
       "      <td>37.743289</td>\n",
       "      <td>-122.418655</td>\n",
       "      <td>(37.7432887637665, -122.41865503445295)</td>\n",
       "      <td>2.0</td>\n",
       "      <td>7.0</td>\n",
       "      <td>7.0</td>\n",
       "      <td>28859.0</td>\n",
       "      <td>2.0</td>\n",
       "    </tr>\n",
       "    <tr>\n",
       "      <th>195857</th>\n",
       "      <td>143411</td>\n",
       "      <td>DPW Maintained</td>\n",
       "      <td>Platanus x hispanica :: Sycamore: London Plane</td>\n",
       "      <td>1244 MARKET ST</td>\n",
       "      <td>1.0</td>\n",
       "      <td>Sidewalk: Curb side : Cutout</td>\n",
       "      <td>Tree</td>\n",
       "      <td>Private</td>\n",
       "      <td>NaN</td>\n",
       "      <td>NaN</td>\n",
       "      <td>...</td>\n",
       "      <td>6.008078e+06</td>\n",
       "      <td>2.111483e+06</td>\n",
       "      <td>37.778185</td>\n",
       "      <td>-122.415606</td>\n",
       "      <td>(37.77818489380947, -122.41560621944208)</td>\n",
       "      <td>7.0</td>\n",
       "      <td>2.0</td>\n",
       "      <td>9.0</td>\n",
       "      <td>28852.0</td>\n",
       "      <td>36.0</td>\n",
       "    </tr>\n",
       "    <tr>\n",
       "      <th>195858</th>\n",
       "      <td>15238</td>\n",
       "      <td>DPW Maintained</td>\n",
       "      <td>Lophostemon confertus :: Brisbane Box</td>\n",
       "      <td>1339 Mission St</td>\n",
       "      <td>1.0</td>\n",
       "      <td>Sidewalk: Curb side : Cutout</td>\n",
       "      <td>Tree</td>\n",
       "      <td>DPW</td>\n",
       "      <td>NaN</td>\n",
       "      <td>07/31/2012 12:00:00 AM</td>\n",
       "      <td>...</td>\n",
       "      <td>6.008169e+06</td>\n",
       "      <td>2.110575e+06</td>\n",
       "      <td>37.775699</td>\n",
       "      <td>-122.415228</td>\n",
       "      <td>(37.77569926325394, -122.41522780193992)</td>\n",
       "      <td>8.0</td>\n",
       "      <td>2.0</td>\n",
       "      <td>9.0</td>\n",
       "      <td>28853.0</td>\n",
       "      <td>34.0</td>\n",
       "    </tr>\n",
       "  </tbody>\n",
       "</table>\n",
       "<p>195859 rows × 23 columns</p>\n",
       "</div>"
      ],
      "text/plain": [
       "        TreeID      qLegalStatus  \\\n",
       "0       121399    DPW Maintained   \n",
       "1        46536    Permitted Site   \n",
       "2       251210    DPW Maintained   \n",
       "3       254457  Significant Tree   \n",
       "4       255073           Private   \n",
       "...        ...               ...   \n",
       "195854     231    DPW Maintained   \n",
       "195855   92652    Permitted Site   \n",
       "195856  108942    Permitted Site   \n",
       "195857  143411    DPW Maintained   \n",
       "195858   15238    DPW Maintained   \n",
       "\n",
       "                                                 qSpecies           qAddress  \\\n",
       "0                 Corymbia ficifolia :: Red Flowering Gum     349X Cargo Way   \n",
       "1                                              Tree(s) ::       73 Summer St   \n",
       "2       Eucalyptus polyanthemos :: Silver Dollar Eucal...    1170 Ingalls St   \n",
       "3                            Dodonaea viscosa :: Hop Bush    1055X Duncan St   \n",
       "4                                              Tree(s) ::   173R Glenview Dr   \n",
       "...                                                   ...                ...   \n",
       "195854     Platanus x hispanica :: Sycamore: London Plane      2975 19th Ave   \n",
       "195855             Azara microphylla :: Little-Leaf Azara      2201 Baker St   \n",
       "195856         Arbutus 'Marina' :: Hybrid Strawberry Tree  115B Prospect Ave   \n",
       "195857     Platanus x hispanica :: Sycamore: London Plane     1244 MARKET ST   \n",
       "195858              Lophostemon confertus :: Brisbane Box    1339 Mission St   \n",
       "\n",
       "        SiteOrder                         qSiteInfo PlantType qCaretaker  \\\n",
       "0             1.0      Sidewalk: Curb side : Cutout      Tree        DPW   \n",
       "1             2.0      Sidewalk: Curb side : Cutout      Tree    Private   \n",
       "2             2.0      Sidewalk: Curb side : Cutout      Tree        DPW   \n",
       "3             2.0                  Side Yard : Yard      Tree    Private   \n",
       "4             NaN                  Back Yard : Yard      Tree    Private   \n",
       "...           ...                               ...       ...        ...   \n",
       "195854        2.0      Sidewalk: Curb side : Cutout      Tree        DPW   \n",
       "195855       18.0  Sidewalk: Property side : Cutout      Tree    Private   \n",
       "195856        1.0      Sidewalk: Curb side : Cutout      Tree    Private   \n",
       "195857        1.0      Sidewalk: Curb side : Cutout      Tree    Private   \n",
       "195858        1.0      Sidewalk: Curb side : Cutout      Tree        DPW   \n",
       "\n",
       "       qCareAssistant               PlantDate  ...        XCoord  \\\n",
       "0                 NaN                     NaN  ...           NaN   \n",
       "1                 NaN  04/01/2002 12:00:00 AM  ...           NaN   \n",
       "2                 NaN  11/02/1992 12:00:00 AM  ...           NaN   \n",
       "3                 NaN                     NaN  ...           NaN   \n",
       "4                 NaN                     NaN  ...           NaN   \n",
       "...               ...                     ...  ...           ...   \n",
       "195854            NaN  03/09/2000 12:00:00 AM  ...  5.990529e+06   \n",
       "195855            NaN  08/25/2009 12:00:00 AM  ...  5.999814e+06   \n",
       "195856            FUF  01/13/2015 12:00:00 AM  ...  6.006936e+06   \n",
       "195857            NaN                     NaN  ...  6.008078e+06   \n",
       "195858            NaN  07/31/2012 12:00:00 AM  ...  6.008169e+06   \n",
       "\n",
       "              YCoord   Latitude   Longitude  \\\n",
       "0                NaN        NaN         NaN   \n",
       "1                NaN        NaN         NaN   \n",
       "2                NaN        NaN         NaN   \n",
       "3                NaN        NaN         NaN   \n",
       "4                NaN        NaN         NaN   \n",
       "...              ...        ...         ...   \n",
       "195854  2.095426e+06  37.733095 -122.475141   \n",
       "195855  2.116396e+06  37.791208 -122.444547   \n",
       "195856  2.098797e+06  37.743289 -122.418655   \n",
       "195857  2.111483e+06  37.778185 -122.415606   \n",
       "195858  2.110575e+06  37.775699 -122.415228   \n",
       "\n",
       "                                         Location  Fire Prevention Districts  \\\n",
       "0                                             NaN                        NaN   \n",
       "1                                             NaN                        NaN   \n",
       "2                                             NaN                        NaN   \n",
       "3                                             NaN                        NaN   \n",
       "4                                             NaN                        NaN   \n",
       "...                                           ...                        ...   \n",
       "195854     (37.7330954514847, -122.4751412005191)                        1.0   \n",
       "195855  (37.791207910729526, -122.44454696545509)                       13.0   \n",
       "195856    (37.7432887637665, -122.41865503445295)                        2.0   \n",
       "195857   (37.77818489380947, -122.41560621944208)                        7.0   \n",
       "195858   (37.77569926325394, -122.41522780193992)                        8.0   \n",
       "\n",
       "        Police Districts Supervisor Districts  Zip Codes  Neighborhoods (old)  \n",
       "0                    NaN                  NaN        NaN                  NaN  \n",
       "1                    NaN                  NaN        NaN                  NaN  \n",
       "2                    NaN                  NaN        NaN                  NaN  \n",
       "3                    NaN                  NaN        NaN                  NaN  \n",
       "4                    NaN                  NaN        NaN                  NaN  \n",
       "...                  ...                  ...        ...                  ...  \n",
       "195854               8.0                  4.0       64.0                 35.0  \n",
       "195855               6.0                  1.0    29490.0                 27.0  \n",
       "195856               7.0                  7.0    28859.0                  2.0  \n",
       "195857               2.0                  9.0    28852.0                 36.0  \n",
       "195858               2.0                  9.0    28853.0                 34.0  \n",
       "\n",
       "[195859 rows x 23 columns]"
      ]
     },
     "execution_count": 105,
     "metadata": {},
     "output_type": "execute_result"
    }
   ],
   "source": [
    "df = pd.read_csv(\"Street_Tree_List.csv\")\n",
    "df"
   ]
  },
  {
   "cell_type": "markdown",
   "id": "5652d84a",
   "metadata": {},
   "source": [
    "## Step 1: Explore"
   ]
  },
  {
   "cell_type": "code",
   "execution_count": 10,
   "id": "f4f25e4b",
   "metadata": {},
   "outputs": [
    {
     "data": {
      "text/plain": [
       "Index(['TreeID', 'qLegalStatus', 'qSpecies', 'qAddress', 'SiteOrder',\n",
       "       'qSiteInfo', 'PlantType', 'qCaretaker', 'qCareAssistant', 'PlantDate',\n",
       "       'DBH', 'PlotSize', 'PermitNotes', 'XCoord', 'YCoord', 'Latitude',\n",
       "       'Longitude', 'Location', 'Fire Prevention Districts',\n",
       "       'Police Districts', 'Supervisor Districts', 'Zip Codes',\n",
       "       'Neighborhoods (old)'],\n",
       "      dtype='object')"
      ]
     },
     "execution_count": 10,
     "metadata": {},
     "output_type": "execute_result"
    }
   ],
   "source": [
    "# List all of the column names\n",
    "df.columns"
   ]
  },
  {
   "cell_type": "code",
   "execution_count": 17,
   "id": "c7e64c2e",
   "metadata": {},
   "outputs": [
    {
     "data": {
      "text/plain": [
       "29"
      ]
     },
     "execution_count": 17,
     "metadata": {},
     "output_type": "execute_result"
    }
   ],
   "source": [
    "# Number of unique zipcodes\n",
    "unique_zipcodes = df['Zip Codes'].nunique()\n",
    "unique_zipcodes"
   ]
  },
  {
   "cell_type": "code",
   "execution_count": 20,
   "id": "19343e07",
   "metadata": {},
   "outputs": [
    {
     "data": {
      "text/plain": [
       "195859"
      ]
     },
     "execution_count": 20,
     "metadata": {},
     "output_type": "execute_result"
    }
   ],
   "source": [
    "# How many total trees are there\n",
    "len(df.index)"
   ]
  },
  {
   "cell_type": "code",
   "execution_count": 22,
   "id": "515fc074",
   "metadata": {},
   "outputs": [
    {
     "data": {
      "text/plain": [
       "(195859, 23)"
      ]
     },
     "execution_count": 22,
     "metadata": {},
     "output_type": "execute_result"
    }
   ],
   "source": [
    "# What are the various formats for dimensions\n",
    "shape = df.shape\n",
    "shape"
   ]
  },
  {
   "cell_type": "code",
   "execution_count": 25,
   "id": "e1731446",
   "metadata": {},
   "outputs": [
    {
     "data": {
      "text/plain": [
       "0             Sidewalk: Curb side : Cutout\n",
       "1             Sidewalk: Curb side : Cutout\n",
       "2             Sidewalk: Curb side : Cutout\n",
       "3                         Side Yard : Yard\n",
       "4                         Back Yard : Yard\n",
       "                        ...               \n",
       "195854        Sidewalk: Curb side : Cutout\n",
       "195855    Sidewalk: Property side : Cutout\n",
       "195856        Sidewalk: Curb side : Cutout\n",
       "195857        Sidewalk: Curb side : Cutout\n",
       "195858        Sidewalk: Curb side : Cutout\n",
       "Name: qSiteInfo, Length: 195859, dtype: object"
      ]
     },
     "execution_count": 25,
     "metadata": {},
     "output_type": "execute_result"
    }
   ],
   "source": [
    "# What are the different Site information options \n",
    "df['qSiteInfo']"
   ]
  },
  {
   "cell_type": "code",
   "execution_count": 115,
   "id": "ab50ea0a",
   "metadata": {},
   "outputs": [
    {
     "data": {
      "text/plain": [
       "Private                    164135\n",
       "DPW                         27984\n",
       "SFUSD                        1100\n",
       "Port                          726\n",
       "Rec/Park                      722\n",
       "PUC                           261\n",
       "DPW for City Agency           210\n",
       "MTA                           109\n",
       "Dept of Real Estate            94\n",
       "Purchasing Dept                85\n",
       "Housing Authority              73\n",
       "Fire Dept                      68\n",
       "Health Dept                    56\n",
       "Police Dept                    50\n",
       "Public Library                 37\n",
       "Mayor Office of Housing        37\n",
       "Arts Commission                31\n",
       "Office of Mayor                27\n",
       "War Memorial                   20\n",
       "Mission Verde                  15\n",
       "City College                   11\n",
       "Asian Arts Commission           6\n",
       "CAN                             1\n",
       "Cleary Bros. Landscape          1\n",
       "Name: qCaretaker, dtype: int64"
      ]
     },
     "execution_count": 115,
     "metadata": {},
     "output_type": "execute_result"
    }
   ],
   "source": [
    "# Which is more popular for the caretaker - Private or Department of Public Works?\n",
    "df['qCaretaker'].value_counts()"
   ]
  },
  {
   "cell_type": "code",
   "execution_count": 116,
   "id": "e05a60e2",
   "metadata": {},
   "outputs": [
    {
     "name": "stdout",
     "output_type": "stream",
     "text": [
      "qCareAssistant null values: 171206\n",
      "PlantDate null values: 127493\n",
      "XCoord null values: 2940\n",
      "YCoord null values: 2940\n",
      "Latitude null values: 2940\n",
      "Longitude null values: 2940\n",
      "Location null values: 2940\n",
      "Fire Prevention Districts null values: 3191\n",
      "Police Districts null values: 3138\n",
      "Supervisor Districts null values: 3077\n",
      "Zip Codes null values: 3083\n",
      "Neighborhoods null values: 3081\n"
     ]
    }
   ],
   "source": [
    "# What missing data is there in this dataset? Which columns are impacted? How many rows in each column?\n",
    "df.isnull()\n",
    "# There is missing data in multiple columns including qCareAssistant, PlantDate, XCoord, YCoord, \n",
    "#Latitude, Longitude, Location, Fire Prevention Districts, Police Districts, Supervisor Districts, \n",
    "#Zip Codes, and Neighborhoods\n",
    "\n",
    "print('qCareAssistant null values:',df['qCareAssistant'].isnull().sum())\n",
    "print('PlantDate null values:',df['PlantDate'].isnull().sum())\n",
    "print('XCoord null values:',df['XCoord'].isnull().sum())\n",
    "print('YCoord null values:',df['YCoord'].isnull().sum())\n",
    "print('Latitude null values:',df['Latitude'].isnull().sum())\n",
    "print('Longitude null values:',df['Longitude'].isnull().sum())\n",
    "print('Location null values:',df['Location'].isnull().sum())\n",
    "print('Fire Prevention Districts null values:',df['Fire Prevention Districts'].isnull().sum())\n",
    "print('Police Districts null values:',df['Police Districts'].isnull().sum())\n",
    "print('Supervisor Districts null values:',df['Supervisor Districts'].isnull().sum())\n",
    "print('Zip Codes null values:',df['Zip Codes'].isnull().sum())\n",
    "print('Neighborhoods null values:',df['Neighborhoods (old)'].isnull().sum())"
   ]
  },
  {
   "cell_type": "markdown",
   "id": "6964523b",
   "metadata": {},
   "source": [
    "## Step 2: Visualize"
   ]
  },
  {
   "cell_type": "code",
   "execution_count": 163,
   "id": "fa6b5050",
   "metadata": {},
   "outputs": [
    {
     "data": {
      "image/png": "[encoded data removed]",
      "text/plain": [
       "<Figure size 432x288 with 30 Axes>"
      ]
     },
     "metadata": {
      "needs_background": "light"
     },
     "output_type": "display_data"
    }
   ],
   "source": [
    "# Create a histogram of the number of trees in each zipcode\n",
    "hist = df['TreeID'].hist(by=df['Zip Codes'])"
   ]
  },
  {
   "cell_type": "code",
   "execution_count": 167,
   "id": "143e1828",
   "metadata": {},
   "outputs": [
    {
     "data": {
      "image/png": "[encoded data removed]",
      "text/plain": [
       "<Figure size 720x720 with 2 Axes>"
      ]
     },
     "metadata": {
      "needs_background": "light"
     },
     "output_type": "display_data"
    },
    {
     "data": {
      "image/png": "[encoded data removed]",
      "text/plain": [
       "<Figure size 720x720 with 2 Axes>"
      ]
     },
     "metadata": {
      "needs_background": "light"
     },
     "output_type": "display_data"
    }
   ],
   "source": [
    "# Create a histogram of the number of trees cared for by \"Private\" vs. \"DPW\"\n",
    "# caretaker_hist = df['qCaretaker'].hist(by=df['qCaretaker'])\n",
    "df['qCaretaker'].hist(by=df['qCaretaker'] == 'DPW', alpha=1, figsize=(10,10));\n",
    "df['qCaretaker'].hist(by=df['qCaretaker'] == 'Private', alpha=1, figsize=(10,10));\n",
    "plt.title(\"Number of trees cared for by caretaker\");\n",
    "plt.xlabel(\"Caretaker\", fontsize=12);\n",
    "plt.ylabel(\"Number of trees\", fontsize=12);"
   ]
  }
 ],
 "metadata": {
  "kernelspec": {
   "display_name": "Python 3 (ipykernel)",
   "language": "python",
   "name": "python3"
  },
  "language_info": {
   "codemirror_mode": {
    "name": "ipython",
    "version": 3
   },
   "file_extension": ".py",
   "mimetype": "text/x-python",
   "name": "python",
   "nbconvert_exporter": "python",
   "pygments_lexer": "ipython3",
   "version": "3.10.1"
  }
 },
 "nbformat": 4,
 "nbformat_minor": 5
}
